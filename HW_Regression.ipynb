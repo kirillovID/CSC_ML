{
 "cells": [
  {
   "cell_type": "markdown",
   "metadata": {},
   "source": [
    "# Линейная регрессия\n",
    "__Суммарное количество баллов: 10__\n"
   ]
  },
  {
   "cell_type": "code",
   "execution_count": 1,
   "metadata": {},
   "outputs": [],
   "source": [
    "from sklearn.datasets import make_blobs, make_moons\n",
    "from sklearn.model_selection import train_test_split\n",
    "import numpy as np\n",
    "import random\n",
    "import matplotlib.pyplot as plt\n",
    "import matplotlib\n",
    "import copy"
   ]
  },
  {
   "cell_type": "code",
   "execution_count": 2,
   "metadata": {},
   "outputs": [],
   "source": [
    "def generate_synthetic(size, dim=6, noise=0.1):\n",
    "    X = np.random.randn(size, dim)\n",
    "    w = np.random.randn(dim + 1)\n",
    "    noise = noise * np.random.randn(size)\n",
    "    y = X.dot(w[1:]) + w[0] + noise\n",
    "    return X, y"
   ]
  },
  {
   "cell_type": "markdown",
   "metadata": {},
   "source": [
    "#### Метрика\n",
    "Для начала нужно понять, какую метрику для ошибки будем использовать. В нашем случае нам подойдет стандартная метрика RMSE. Ее и нужно реализовать."
   ]
  },
  {
   "cell_type": "code",
   "execution_count": 3,
   "metadata": {},
   "outputs": [],
   "source": [
    "def rmse(y_true, y_predicted):\n",
    "    return np.sqrt(np.mean((y_true - y_predicted) ** 2))"
   ]
  },
  {
   "cell_type": "markdown",
   "metadata": {},
   "source": [
    "\n",
    "Теперь реализуем линейную регрессию при помощи явного решения задачи минимизации. \n",
    "\n",
    "#### Методы\n",
    "`fit(X, y)` - решает задачу минимизации $\\arg\\min_{w, b}\\sum ((w\\cdot x + b) - y)^2$. \n",
    "\n",
    "`predict(X)` - строит предсказание `y` для объектов из `X`."
   ]
  },
  {
   "cell_type": "code",
   "execution_count": 4,
   "metadata": {},
   "outputs": [],
   "source": [
    "from sklearn.preprocessing import PolynomialFeatures\n",
    "\n",
    "class NormalLR:\n",
    "    def __init__(self, alpha=1.0, degree=None):\n",
    "        self.w = None\n",
    "        self.alpha = alpha\n",
    "        self.degree = degree\n",
    "        self.poly = None\n",
    "    \n",
    "    def fit(self, X, y):\n",
    "        if self.degree == None or self.degree == 1:\n",
    "            X = np.array(X)\n",
    "            X = np.hstack((np.ones((len(X), 1)), X))\n",
    "        else:\n",
    "            self.poly = PolynomialFeatures(degree=self.degree)\n",
    "            X = self.poly.fit_transform(X)\n",
    "        n_rows, n_cols = X.shape\n",
    "        I = np.eye(n_cols)\n",
    "        I[0, 0] = 0\n",
    "        self.w = np.linalg.inv((X.T @ X + self.alpha * I)) @ X.T @ y\n",
    "    \n",
    "    def predict(self, X):\n",
    "        if self.degree == None or self.degree == 1:\n",
    "            X = np.array(X)\n",
    "            X = np.hstack((np.ones((len(X), 1)), X))\n",
    "        else:\n",
    "            X = self.poly.fit_transform(X)\n",
    "        return X @ self.w"
   ]
  },
  {
   "cell_type": "code",
   "execution_count": 5,
   "metadata": {},
   "outputs": [],
   "source": [
    "X, y = generate_synthetic(1024)\n",
    "X_train, X_test, y_train, y_test = train_test_split(X, y, train_size=0.8)"
   ]
  },
  {
   "cell_type": "code",
   "execution_count": 6,
   "metadata": {},
   "outputs": [
    {
     "name": "stdout",
     "output_type": "stream",
     "text": [
      "0.10388314429104481\n"
     ]
    }
   ],
   "source": [
    "regr = NormalLR()\n",
    "regr.fit(X_train, y_train)\n",
    "print(rmse(y_test, regr.predict(X_test)))"
   ]
  },
  {
   "cell_type": "markdown",
   "metadata": {},
   "source": [
    "1. Выполните загрузку и предобработку файлов x_boston_train и y_boston_train.\n",
    "2. Разбейте x_boston_train и y_boston_train на x_train, y_train, x_test и y_test для оценки точности работы алгоритма.\n",
    "3. Посчитайте метрику RMSE для моделей LR. Если необходимо, попробуйте разные наборы параметров для получения лучшего результата.\n",
    "4. Постройте график зависимости ошибки от коэффициента регуляризации. "
   ]
  },
  {
   "cell_type": "code",
   "execution_count": 7,
   "metadata": {},
   "outputs": [],
   "source": [
    "import pandas as pd\n",
    "\n",
    "def read_data():\n",
    "    X_train = pd.read_csv(\"x_boston_train.csv\", index_col='Id')\n",
    "    X_test = pd.read_csv(\"x_boston_test.csv\", index_col='Id')\n",
    "    \n",
    "    y_train = pd.read_csv(\"y_boston_train.csv\", index_col='Id')\n",
    "    y_train = y_train.iloc[:,0]\n",
    "    \n",
    "    return X_test, X_train, y_train"
   ]
  },
  {
   "cell_type": "code",
   "execution_count": 8,
   "metadata": {},
   "outputs": [],
   "source": [
    "X_boston_test, X_boston_train, y_boston_train = read_data()\n",
    "X_train, X_test, y_train, y_test = train_test_split(X_boston_train, y_boston_train, train_size=0.8, random_state=42)"
   ]
  },
  {
   "cell_type": "code",
   "execution_count": 9,
   "metadata": {},
   "outputs": [
    {
     "name": "stdout",
     "output_type": "stream",
     "text": [
      "5109.370461206057\n",
      "4648.604842225422\n"
     ]
    }
   ],
   "source": [
    "# default RidgeRegressor without data preprocessing\n",
    "regr = NormalLR()\n",
    "regr.fit(X_train, y_train)\n",
    "print(rmse(y_test, regr.predict(X_test)))\n",
    "print(rmse(y_train, regr.predict(X_train)))"
   ]
  },
  {
   "cell_type": "markdown",
   "metadata": {},
   "source": [
    "### EDA"
   ]
  },
  {
   "cell_type": "code",
   "execution_count": 10,
   "metadata": {},
   "outputs": [
    {
     "data": {
      "text/html": [
       "<div>\n",
       "<style scoped>\n",
       "    .dataframe tbody tr th:only-of-type {\n",
       "        vertical-align: middle;\n",
       "    }\n",
       "\n",
       "    .dataframe tbody tr th {\n",
       "        vertical-align: top;\n",
       "    }\n",
       "\n",
       "    .dataframe thead th {\n",
       "        text-align: right;\n",
       "    }\n",
       "</style>\n",
       "<table border=\"1\" class=\"dataframe\">\n",
       "  <thead>\n",
       "    <tr style=\"text-align: right;\">\n",
       "      <th></th>\n",
       "      <th>crim</th>\n",
       "      <th>zn</th>\n",
       "      <th>indus</th>\n",
       "      <th>chas</th>\n",
       "      <th>nox</th>\n",
       "      <th>rm</th>\n",
       "      <th>age</th>\n",
       "      <th>dis</th>\n",
       "      <th>rad</th>\n",
       "      <th>tax</th>\n",
       "      <th>ptratio</th>\n",
       "      <th>b</th>\n",
       "      <th>lstat</th>\n",
       "    </tr>\n",
       "    <tr>\n",
       "      <th>Id</th>\n",
       "      <th></th>\n",
       "      <th></th>\n",
       "      <th></th>\n",
       "      <th></th>\n",
       "      <th></th>\n",
       "      <th></th>\n",
       "      <th></th>\n",
       "      <th></th>\n",
       "      <th></th>\n",
       "      <th></th>\n",
       "      <th></th>\n",
       "      <th></th>\n",
       "      <th></th>\n",
       "    </tr>\n",
       "  </thead>\n",
       "  <tbody>\n",
       "    <tr>\n",
       "      <th>0</th>\n",
       "      <td>3.16360</td>\n",
       "      <td>0.0</td>\n",
       "      <td>18.10</td>\n",
       "      <td>0</td>\n",
       "      <td>0.655</td>\n",
       "      <td>5.759</td>\n",
       "      <td>48.2</td>\n",
       "      <td>3.0665</td>\n",
       "      <td>24</td>\n",
       "      <td>666.0</td>\n",
       "      <td>20.2</td>\n",
       "      <td>334.40</td>\n",
       "      <td>14.13</td>\n",
       "    </tr>\n",
       "    <tr>\n",
       "      <th>1</th>\n",
       "      <td>0.59005</td>\n",
       "      <td>0.0</td>\n",
       "      <td>21.89</td>\n",
       "      <td>0</td>\n",
       "      <td>0.624</td>\n",
       "      <td>6.372</td>\n",
       "      <td>97.9</td>\n",
       "      <td>2.3274</td>\n",
       "      <td>4</td>\n",
       "      <td>437.0</td>\n",
       "      <td>21.2</td>\n",
       "      <td>385.76</td>\n",
       "      <td>11.12</td>\n",
       "    </tr>\n",
       "    <tr>\n",
       "      <th>2</th>\n",
       "      <td>7.75223</td>\n",
       "      <td>0.0</td>\n",
       "      <td>18.10</td>\n",
       "      <td>0</td>\n",
       "      <td>0.713</td>\n",
       "      <td>6.301</td>\n",
       "      <td>83.7</td>\n",
       "      <td>2.7831</td>\n",
       "      <td>24</td>\n",
       "      <td>666.0</td>\n",
       "      <td>20.2</td>\n",
       "      <td>272.21</td>\n",
       "      <td>16.23</td>\n",
       "    </tr>\n",
       "    <tr>\n",
       "      <th>3</th>\n",
       "      <td>0.14231</td>\n",
       "      <td>0.0</td>\n",
       "      <td>10.01</td>\n",
       "      <td>0</td>\n",
       "      <td>0.547</td>\n",
       "      <td>6.254</td>\n",
       "      <td>84.2</td>\n",
       "      <td>2.2565</td>\n",
       "      <td>6</td>\n",
       "      <td>432.0</td>\n",
       "      <td>17.8</td>\n",
       "      <td>388.74</td>\n",
       "      <td>10.45</td>\n",
       "    </tr>\n",
       "    <tr>\n",
       "      <th>4</th>\n",
       "      <td>0.01096</td>\n",
       "      <td>55.0</td>\n",
       "      <td>2.25</td>\n",
       "      <td>0</td>\n",
       "      <td>0.389</td>\n",
       "      <td>6.453</td>\n",
       "      <td>31.9</td>\n",
       "      <td>7.3073</td>\n",
       "      <td>1</td>\n",
       "      <td>300.0</td>\n",
       "      <td>15.3</td>\n",
       "      <td>394.72</td>\n",
       "      <td>8.23</td>\n",
       "    </tr>\n",
       "  </tbody>\n",
       "</table>\n",
       "</div>"
      ],
      "text/plain": [
       "       crim    zn  indus  chas    nox     rm   age     dis  rad    tax  \\\n",
       "Id                                                                       \n",
       "0   3.16360   0.0  18.10     0  0.655  5.759  48.2  3.0665   24  666.0   \n",
       "1   0.59005   0.0  21.89     0  0.624  6.372  97.9  2.3274    4  437.0   \n",
       "2   7.75223   0.0  18.10     0  0.713  6.301  83.7  2.7831   24  666.0   \n",
       "3   0.14231   0.0  10.01     0  0.547  6.254  84.2  2.2565    6  432.0   \n",
       "4   0.01096  55.0   2.25     0  0.389  6.453  31.9  7.3073    1  300.0   \n",
       "\n",
       "    ptratio       b  lstat  \n",
       "Id                          \n",
       "0      20.2  334.40  14.13  \n",
       "1      21.2  385.76  11.12  \n",
       "2      20.2  272.21  16.23  \n",
       "3      17.8  388.74  10.45  \n",
       "4      15.3  394.72   8.23  "
      ]
     },
     "execution_count": 10,
     "metadata": {},
     "output_type": "execute_result"
    }
   ],
   "source": [
    "X_boston_train.head(5)"
   ]
  },
  {
   "cell_type": "code",
   "execution_count": 11,
   "metadata": {},
   "outputs": [
    {
     "data": {
      "text/html": [
       "<div>\n",
       "<style scoped>\n",
       "    .dataframe tbody tr th:only-of-type {\n",
       "        vertical-align: middle;\n",
       "    }\n",
       "\n",
       "    .dataframe tbody tr th {\n",
       "        vertical-align: top;\n",
       "    }\n",
       "\n",
       "    .dataframe thead th {\n",
       "        text-align: right;\n",
       "    }\n",
       "</style>\n",
       "<table border=\"1\" class=\"dataframe\">\n",
       "  <thead>\n",
       "    <tr style=\"text-align: right;\">\n",
       "      <th></th>\n",
       "      <th>crim</th>\n",
       "      <th>zn</th>\n",
       "      <th>indus</th>\n",
       "      <th>chas</th>\n",
       "      <th>nox</th>\n",
       "      <th>rm</th>\n",
       "      <th>age</th>\n",
       "      <th>dis</th>\n",
       "      <th>rad</th>\n",
       "      <th>tax</th>\n",
       "      <th>ptratio</th>\n",
       "      <th>b</th>\n",
       "      <th>lstat</th>\n",
       "    </tr>\n",
       "  </thead>\n",
       "  <tbody>\n",
       "    <tr>\n",
       "      <th>count</th>\n",
       "      <td>404.000000</td>\n",
       "      <td>404.000000</td>\n",
       "      <td>404.000000</td>\n",
       "      <td>404.000000</td>\n",
       "      <td>404.000000</td>\n",
       "      <td>404.000000</td>\n",
       "      <td>404.000000</td>\n",
       "      <td>404.000000</td>\n",
       "      <td>404.000000</td>\n",
       "      <td>404.000000</td>\n",
       "      <td>404.000000</td>\n",
       "      <td>404.000000</td>\n",
       "      <td>404.000000</td>\n",
       "    </tr>\n",
       "    <tr>\n",
       "      <th>mean</th>\n",
       "      <td>3.779689</td>\n",
       "      <td>11.266089</td>\n",
       "      <td>11.244158</td>\n",
       "      <td>0.061881</td>\n",
       "      <td>0.555123</td>\n",
       "      <td>6.294693</td>\n",
       "      <td>68.874752</td>\n",
       "      <td>3.732200</td>\n",
       "      <td>9.735149</td>\n",
       "      <td>410.881188</td>\n",
       "      <td>18.393564</td>\n",
       "      <td>357.854332</td>\n",
       "      <td>12.619926</td>\n",
       "    </tr>\n",
       "    <tr>\n",
       "      <th>std</th>\n",
       "      <td>8.703271</td>\n",
       "      <td>23.064407</td>\n",
       "      <td>6.870426</td>\n",
       "      <td>0.241238</td>\n",
       "      <td>0.115695</td>\n",
       "      <td>0.729084</td>\n",
       "      <td>28.024408</td>\n",
       "      <td>2.077102</td>\n",
       "      <td>8.793842</td>\n",
       "      <td>169.448970</td>\n",
       "      <td>2.162197</td>\n",
       "      <td>88.550638</td>\n",
       "      <td>7.257038</td>\n",
       "    </tr>\n",
       "    <tr>\n",
       "      <th>min</th>\n",
       "      <td>0.006320</td>\n",
       "      <td>0.000000</td>\n",
       "      <td>0.460000</td>\n",
       "      <td>0.000000</td>\n",
       "      <td>0.385000</td>\n",
       "      <td>3.561000</td>\n",
       "      <td>2.900000</td>\n",
       "      <td>1.137000</td>\n",
       "      <td>1.000000</td>\n",
       "      <td>187.000000</td>\n",
       "      <td>12.600000</td>\n",
       "      <td>0.320000</td>\n",
       "      <td>1.730000</td>\n",
       "    </tr>\n",
       "    <tr>\n",
       "      <th>25%</th>\n",
       "      <td>0.079980</td>\n",
       "      <td>0.000000</td>\n",
       "      <td>5.175000</td>\n",
       "      <td>0.000000</td>\n",
       "      <td>0.449000</td>\n",
       "      <td>5.886500</td>\n",
       "      <td>45.325000</td>\n",
       "      <td>2.077100</td>\n",
       "      <td>4.000000</td>\n",
       "      <td>279.000000</td>\n",
       "      <td>16.975000</td>\n",
       "      <td>375.085000</td>\n",
       "      <td>6.907500</td>\n",
       "    </tr>\n",
       "    <tr>\n",
       "      <th>50%</th>\n",
       "      <td>0.250895</td>\n",
       "      <td>0.000000</td>\n",
       "      <td>9.690000</td>\n",
       "      <td>0.000000</td>\n",
       "      <td>0.538000</td>\n",
       "      <td>6.211500</td>\n",
       "      <td>77.700000</td>\n",
       "      <td>3.142300</td>\n",
       "      <td>5.000000</td>\n",
       "      <td>336.000000</td>\n",
       "      <td>19.000000</td>\n",
       "      <td>391.395000</td>\n",
       "      <td>11.170000</td>\n",
       "    </tr>\n",
       "    <tr>\n",
       "      <th>75%</th>\n",
       "      <td>3.840055</td>\n",
       "      <td>12.500000</td>\n",
       "      <td>18.100000</td>\n",
       "      <td>0.000000</td>\n",
       "      <td>0.624000</td>\n",
       "      <td>6.631250</td>\n",
       "      <td>94.025000</td>\n",
       "      <td>5.117025</td>\n",
       "      <td>24.000000</td>\n",
       "      <td>666.000000</td>\n",
       "      <td>20.200000</td>\n",
       "      <td>396.900000</td>\n",
       "      <td>16.977500</td>\n",
       "    </tr>\n",
       "    <tr>\n",
       "      <th>max</th>\n",
       "      <td>88.976200</td>\n",
       "      <td>95.000000</td>\n",
       "      <td>27.740000</td>\n",
       "      <td>1.000000</td>\n",
       "      <td>0.871000</td>\n",
       "      <td>8.780000</td>\n",
       "      <td>100.000000</td>\n",
       "      <td>12.126500</td>\n",
       "      <td>24.000000</td>\n",
       "      <td>711.000000</td>\n",
       "      <td>22.000000</td>\n",
       "      <td>396.900000</td>\n",
       "      <td>37.970000</td>\n",
       "    </tr>\n",
       "  </tbody>\n",
       "</table>\n",
       "</div>"
      ],
      "text/plain": [
       "             crim          zn       indus        chas         nox          rm  \\\n",
       "count  404.000000  404.000000  404.000000  404.000000  404.000000  404.000000   \n",
       "mean     3.779689   11.266089   11.244158    0.061881    0.555123    6.294693   \n",
       "std      8.703271   23.064407    6.870426    0.241238    0.115695    0.729084   \n",
       "min      0.006320    0.000000    0.460000    0.000000    0.385000    3.561000   \n",
       "25%      0.079980    0.000000    5.175000    0.000000    0.449000    5.886500   \n",
       "50%      0.250895    0.000000    9.690000    0.000000    0.538000    6.211500   \n",
       "75%      3.840055   12.500000   18.100000    0.000000    0.624000    6.631250   \n",
       "max     88.976200   95.000000   27.740000    1.000000    0.871000    8.780000   \n",
       "\n",
       "              age         dis         rad         tax     ptratio           b  \\\n",
       "count  404.000000  404.000000  404.000000  404.000000  404.000000  404.000000   \n",
       "mean    68.874752    3.732200    9.735149  410.881188   18.393564  357.854332   \n",
       "std     28.024408    2.077102    8.793842  169.448970    2.162197   88.550638   \n",
       "min      2.900000    1.137000    1.000000  187.000000   12.600000    0.320000   \n",
       "25%     45.325000    2.077100    4.000000  279.000000   16.975000  375.085000   \n",
       "50%     77.700000    3.142300    5.000000  336.000000   19.000000  391.395000   \n",
       "75%     94.025000    5.117025   24.000000  666.000000   20.200000  396.900000   \n",
       "max    100.000000   12.126500   24.000000  711.000000   22.000000  396.900000   \n",
       "\n",
       "            lstat  \n",
       "count  404.000000  \n",
       "mean    12.619926  \n",
       "std      7.257038  \n",
       "min      1.730000  \n",
       "25%      6.907500  \n",
       "50%     11.170000  \n",
       "75%     16.977500  \n",
       "max     37.970000  "
      ]
     },
     "execution_count": 11,
     "metadata": {},
     "output_type": "execute_result"
    }
   ],
   "source": [
    "X_boston_train.describe() # no NAs or categorical data which needs to be encoded, but data needs to be scaled"
   ]
  },
  {
   "cell_type": "code",
   "execution_count": 12,
   "metadata": {},
   "outputs": [
    {
     "data": {
      "image/png": "[encoded data removed]",
      "text/plain": [
       "<Figure size 1152x720 with 16 Axes>"
      ]
     },
     "metadata": {
      "needs_background": "light"
     },
     "output_type": "display_data"
    }
   ],
   "source": [
    "X_boston_train.hist(figsize=(16,10))\n",
    "plt.show()"
   ]
  },
  {
   "cell_type": "code",
   "execution_count": 13,
   "metadata": {},
   "outputs": [],
   "source": [
    "from sklearn.preprocessing import StandardScaler\n",
    "\n",
    "# the best choice is StandardScaler\n",
    "stdscaler = StandardScaler()\n",
    "\n",
    "X_train_scaled = stdscaler.fit_transform(X_train)\n",
    "X_test_scaled = stdscaler.transform(X_test)"
   ]
  },
  {
   "cell_type": "code",
   "execution_count": 14,
   "metadata": {},
   "outputs": [
    {
     "name": "stdout",
     "output_type": "stream",
     "text": [
      "RMSE for scaled data: 5056.235424739851\n"
     ]
    }
   ],
   "source": [
    "regr = NormalLR()\n",
    "regr.fit(X_train_scaled, y_train)\n",
    "print(f\"RMSE for scaled data: {rmse(y_test, regr.predict(X_test_scaled))}\")"
   ]
  },
  {
   "cell_type": "code",
   "execution_count": 15,
   "metadata": {},
   "outputs": [],
   "source": [
    "# let's scale our data\n",
    "X_boston_train_scaled = stdscaler.fit_transform(X_boston_train)\n",
    "X_boston_test_scaled = stdscaler.transform(X_boston_test)"
   ]
  },
  {
   "cell_type": "markdown",
   "metadata": {},
   "source": [
    "### CV alpha optimization"
   ]
  },
  {
   "cell_type": "code",
   "execution_count": null,
   "metadata": {},
   "outputs": [],
   "source": [
    "from sklearn.model_selection import KFold\n",
    "\n",
    "kf = KFold(len(X_boston_train_scaled), shuffle=True, random_state=42)\n",
    "degree_list = [3]\n",
    "alpha_list = [2 ** i for i in range(-10, 10)]\n",
    "best_alpha = None\n",
    "best_degree = None\n",
    "best_score = 10 ** 5\n",
    "\n",
    "for degree in degree_list:\n",
    "    for alpha in alpha_list:\n",
    "        score = 0\n",
    "        for train_idx, test_idx in kf.split(X_boston_train_scaled):\n",
    "            ridge = NormalLR(alpha=alpha, degree=degree)\n",
    "            ridge.fit(X_boston_train_scaled[train_idx, :], y_boston_train[train_idx])\n",
    "            y_pred = ridge.predict(X_boston_train_scaled[test_idx, :])\n",
    "            score += rmse(y_boston_train[test_idx], y_pred)\n",
    "        score /= kf.get_n_splits()\n",
    "        if score < best_score:\n",
    "            best_score = score\n",
    "            best_alpha = alpha\n",
    "            best_degree = degree\n",
    "\n",
    "print(\"Results of CV for RidgePolyRegression:\\n\")\n",
    "print(f\"Best degree is: {best_degree}\")\n",
    "print(f\"Best alpha is: {best_alpha}\")\n",
    "print(f\"Best CV RMSE is: {best_score}\")\n",
    "\n",
    "best_ridge = NormalLR(alpha=best_alpha, degree=best_degree)\n",
    "best_ridge.fit(X_train_scaled, y_train)\n",
    "y_pred = best_ridge.predict(X_test_scaled)\n",
    "print(f\"Best_ridge RMSE on test data is: {rmse(y_test, y_pred)}\")"
   ]
  },
  {
   "cell_type": "markdown",
   "metadata": {},
   "source": [
    "### Plotting RMSE w.r.t. alpha"
   ]
  },
  {
   "cell_type": "code",
   "execution_count": 58,
   "metadata": {},
   "outputs": [
    {
     "data": {
      "image/png": "[encoded data removed]",
      "text/plain": [
       "<Figure size 1080x576 with 1 Axes>"
      ]
     },
     "metadata": {
      "needs_background": "light"
     },
     "output_type": "display_data"
    }
   ],
   "source": [
    "# alphas\n",
    "x = np.logspace(-4, 9, num=100, base=2)\n",
    "# Train RMSEs\n",
    "y_fit = []\n",
    "# CV RMSEs\n",
    "y_cv = []\n",
    "# Test RMSEs\n",
    "y = []\n",
    "\n",
    "kf = KFold(10, shuffle=True, random_state=42)\n",
    "\n",
    "for alpha in x:\n",
    "    regr = NormalLR(alpha, degree=3)\n",
    "    regr.fit(X_train_scaled, y_train)\n",
    "    y_pred = regr.predict(X_test_scaled)\n",
    "    # test rmse\n",
    "    y.append(rmse(y_test, y_pred))\n",
    "    # train rmse\n",
    "    y_fit.append(rmse(y_train, regr.predict(X_train_scaled)))\n",
    "    \n",
    "    # cv rmse\n",
    "    score = 0\n",
    "    for train_idx, test_idx in kf.split(X_boston_train_scaled):\n",
    "        regr = NormalLR(alpha=alpha, degree=3)\n",
    "        regr.fit(X_boston_train_scaled[train_idx, :], y_boston_train[train_idx])\n",
    "        y_pred = regr.predict(X_boston_train_scaled[test_idx, :])\n",
    "        score += rmse(y_boston_train[test_idx], y_pred)\n",
    "    y_cv.append(score / kf.get_n_splits())\n",
    "    \n",
    "y_fit = np.array(y_fit)\n",
    "y_cv = np.array(y_cv)\n",
    "y = np.array(y)\n",
    "\n",
    "# min point CV\n",
    "xmin_cv = x[np.argmin(y_cv)]\n",
    "ymin_cv = y_cv.min()\n",
    "\n",
    "# min point Test\n",
    "xmin_test = x[np.argmin(y)]\n",
    "ymin_test = y.min()\n",
    "\n",
    "# annotation with min point\n",
    "text_test = \"alpha={:.2f}, RMSE={:.2f}\".format(xmin_test, ymin_test)\n",
    "text_cv = \"alpha={:.2f}, RMSE={:.2f}\".format(xmin_cv, ymin_cv)\n",
    "bbox_props = dict(boxstyle=\"square,pad=0.5\", fc=\"w\", ec=\"k\", lw=0.92)\n",
    "arrowprops = dict(arrowstyle=\"-\", connectionstyle=\"angle, angleA=90\")\n",
    "kw = dict(xycoords='data', textcoords=\"axes fraction\", arrowprops=arrowprops, \n",
    "          bbox=bbox_props, ha=\"right\", va=\"center\")\n",
    "\n",
    "# creating plots with annotations\n",
    "plt.figure(figsize=(15,8))\n",
    "\n",
    "plt.plot(x, y)\n",
    "plt.annotate(text_test, xy=(xmin_test, ymin_test), xytext=(0.20,0.45), **kw)\n",
    "\n",
    "plt.plot(x, y_cv)\n",
    "plt.annotate(text_cv, xy=(xmin_cv, ymin_cv), xytext=(0.30,0.95), **kw)\n",
    "\n",
    "plt.plot(x, y_fit)\n",
    "\n",
    "# prettify\n",
    "plt.grid(alpha=0.4)\n",
    "plt.ylim(0, 6000)\n",
    "plt.legend([\"Hold Out\", \"CV\", \"Train\"])\n",
    "plt.title(\"5 Fold CV RMSE vs. Hold Out RMSE with respect to alpha for degree=3\")\n",
    "plt.xlabel(\"alpha\")\n",
    "plt.ylabel(\"RMSE\")\n",
    "plt.show()"
   ]
  },
  {
   "cell_type": "markdown",
   "metadata": {},
   "source": [
    "Обучите модель на всех данных из x_boston_train и y_boston_train.\n",
    "Сделайте submit своего решения и получите значение RMSE_score не более 5000"
   ]
  },
  {
   "cell_type": "code",
   "execution_count": 18,
   "metadata": {},
   "outputs": [],
   "source": [
    "best_ridge.fit(X_boston_train_scaled, y_boston_train)\n",
    "y_best_pred = best_ridge.predict(X_boston_test_scaled)"
   ]
  },
  {
   "cell_type": "code",
   "execution_count": null,
   "metadata": {},
   "outputs": [],
   "source": [
    "submission = pd.DataFrame(columns = [\"Id\", \"Expected\"])\n",
    "submission[\"Id\"] = X_boston_test.index\n",
    "submission[\"Expected\"] = y_best_pred\n",
    "submission.to_csv('submission.csv', index=False)"
   ]
  }
 ],
 "metadata": {
  "kernelspec": {
   "display_name": "Python 3 (ipykernel)",
   "language": "python",
   "name": "python3"
  },
  "language_info": {
   "codemirror_mode": {
    "name": "ipython",
    "version": 3
   },
   "file_extension": ".py",
   "mimetype": "text/x-python",
   "name": "python",
   "nbconvert_exporter": "python",
   "pygments_lexer": "ipython3",
   "version": "3.8.11"
  }
 },
 "nbformat": 4,
 "nbformat_minor": 2
}
