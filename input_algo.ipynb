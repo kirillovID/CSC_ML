{
 "cells": [
  {
   "cell_type": "code",
   "execution_count": 1,
   "id": "35e390d7",
   "metadata": {},
   "outputs": [],
   "source": [
    "import sys\n",
    "input = sys.stdin.readline\n",
    "\n",
    "def inp():\n",
    "    return(int(input()))\n",
    "def inlt():\n",
    "    return(list(map(int,input().split())))"
   ]
  },
  {
   "cell_type": "code",
   "execution_count": null,
   "id": "894ffa21",
   "metadata": {},
   "outputs": [],
   "source": []
  }
 ],
 "metadata": {
  "kernelspec": {
   "display_name": "Python 3 (ipykernel)",
   "language": "python",
   "name": "python3"
  },
  "language_info": {
   "codemirror_mode": {
    "name": "ipython",
    "version": 3
   },
   "file_extension": ".py",
   "mimetype": "text/x-python",
   "name": "python",
   "nbconvert_exporter": "python",
   "pygments_lexer": "ipython3",
   "version": "3.8.11"
  }
 },
 "nbformat": 4,
 "nbformat_minor": 5
}
