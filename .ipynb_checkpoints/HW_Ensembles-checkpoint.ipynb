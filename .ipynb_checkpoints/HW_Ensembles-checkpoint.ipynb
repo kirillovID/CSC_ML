{
 "cells": [
  {
   "cell_type": "markdown",
   "metadata": {},
   "source": [
    "# Случайные леса\n",
    "__Суммарное количество баллов: 10__\n",
    "\n",
    "В этом задании вам предстоит реализовать ансамбль деревьев решений, известный как случайный лес, применить его к публичным данным и сравнить его эффективность с ансамблями из самых популярных библиотек."
   ]
  },
  {
   "cell_type": "code",
   "execution_count": 1,
   "metadata": {},
   "outputs": [],
   "source": [
    "from sklearn.model_selection import train_test_split\n",
    "import numpy as np\n",
    "import pandas as pd\n",
    "import random\n",
    "import matplotlib.pyplot as plt\n",
    "import matplotlib\n",
    "import copy"
   ]
  },
  {
   "cell_type": "markdown",
   "metadata": {},
   "source": [
    "Реализуем сам Random Forest. Идея очень простая: строим `n` деревьев, а затем берем модальное предсказание. Используйте реализацию дерева из HW3.\n",
    "\n",
    "#### Параметры конструктора\n",
    "`n_estimators` - количество используемых для предсказания деревьев.\n",
    "\n",
    "Остальное - параметры деревьев.\n",
    "\n",
    "#### Методы\n",
    "`fit(X, y)` - строит `n_estimators` деревьев по выборке `X`.\n",
    "\n",
    "`predict(X)` - для каждого элемента выборки `X` возвращает самый частый класс, который предсказывают для него деревья."
   ]
  },
  {
   "cell_type": "markdown",
   "metadata": {},
   "source": [
    "### RandomForestClassifier implementation using HW3's DecisionTreeClassifier"
   ]
  },
  {
   "cell_type": "code",
   "execution_count": 2,
   "metadata": {},
   "outputs": [],
   "source": [
    "def gini(x):\n",
    "    probs = np.bincount(x) / len(x)\n",
    "    return 1 - np.sum(probs ** 2)\n",
    "    \n",
    "def entropy(x):\n",
    "    probs = np.bincount(x) / len(x)\n",
    "    probs = probs[probs != 0]\n",
    "    return -np.sum(np.log2(probs) * probs)\n",
    "\n",
    "def gain(left_y, right_y, criterion):\n",
    "    parent = np.append(left_y, right_y)\n",
    "    num_left = len(left_y) / len(parent)\n",
    "    num_right = len(right_y) / len(parent)\n",
    "    \n",
    "    return criterion(parent) - num_left * criterion(left_y) - num_right * criterion(right_y)\n",
    "\n",
    "\n",
    "\n",
    "\n",
    "\n",
    "class DecisionTreeLeaf:\n",
    "    def __init__(self, labels, n_cls):\n",
    "        counts = np.bincount(labels, minlength=n_cls)\n",
    "        self.y = counts.argmax()\n",
    "        \n",
    "        probs = counts / len(labels)\n",
    "        self.dic = {cls: prob for (cls, prob) in enumerate(probs)}\n",
    "\n",
    "class DecisionTreeNode:\n",
    "    def __init__(self, split_dim, split_value, left, right):\n",
    "        self.split_dim = split_dim\n",
    "        self.split_value = split_value\n",
    "        self.left = left\n",
    "        self.right = right\n",
    "\n",
    "        \n",
    "        \n",
    "        \n",
    "        \n",
    "class DecisionTreeClassifier:\n",
    "    def __init__(self, criterion=\"gini\", max_depth=None, min_samples_leaf=1, max_features=None):\n",
    "        self.root = None\n",
    "        self.criterion = gini if (criterion == \"gini\") else entropy\n",
    "        self.max_depth = max_depth\n",
    "        self.min_samples_leaf = min_samples_leaf    \n",
    "        self.max_features = max_features\n",
    "    \n",
    "    def fit(self, X, y):\n",
    "        # если переданы обычные массивы, то приведем их к таблицам\n",
    "        if type(X) == np.ndarray:\n",
    "            X = pd.DataFrame(X)\n",
    "        if type(y) == np.ndarray:\n",
    "            y = pd.Series(y, index=X.index)\n",
    "            \n",
    "        n_rows, n_cols = X.shape\n",
    "        cols = [i for i in range(n_cols)]\n",
    "        self.features = X.columns\n",
    "        self.n_cls = len(np.unique(y))\n",
    "        \n",
    "        if self.max_features == \"auto\" or self.max_features == \"sqrt\":\n",
    "            sub_features = int(np.sqrt(n_cols))\n",
    "        elif type(self.max_features) == int:\n",
    "            sub_features = self.max_features\n",
    "        elif type(self.max_features) == float:\n",
    "            sub_features = int(self.max_features * n_cols)\n",
    "        else:\n",
    "            sub_features = n_cols\n",
    "        \n",
    "        def _grow_tree(X, y, n_cls, depth=1):\n",
    "            # начальные значения\n",
    "            best_gain = -10\n",
    "            best_split_dim = None\n",
    "            best_split_value = None\n",
    "            \n",
    "            # база рекурсии => возвращаем лист, если дальше не разрешено растить дерево\n",
    "            if (depth == self.max_depth) or (len(X) < 2):\n",
    "                return DecisionTreeLeaf(y, n_cls)\n",
    "            \n",
    "            # строим дальше: ищем самый информативный признак и соответствующую ему границу\n",
    "            else:\n",
    "                features = np.random.choice(a=cols, size=sub_features, replace=False)\n",
    "                for feature in features:\n",
    "                    X_split_dim = X.iloc[:, feature]\n",
    "                    \n",
    "                    for threshold in np.unique(X_split_dim):\n",
    "                        X_left = X[X_split_dim < threshold]\n",
    "                        y_left = y[X_split_dim < threshold]\n",
    "                        \n",
    "                        X_right = X[X_split_dim >= threshold]\n",
    "                        y_right = y[X_split_dim >= threshold]\n",
    "                        \n",
    "                        # рассматриваем рассечение только в том случае, если получилось достаточное число\n",
    "                        # элементов выборки в каждом из потенциальных листов\n",
    "                        if (len(y_left) >= self.min_samples_leaf) and (len(y_right) >= self.min_samples_leaf):\n",
    "                            curr_gain = gain(y_left, y_right, self.criterion)\n",
    "                            if curr_gain > best_gain:\n",
    "                                best_gain = curr_gain\n",
    "                                \n",
    "                                # сохраняем текущие поля вершины дерева\n",
    "                                best_split_dim = feature\n",
    "                                best_split_value = threshold\n",
    "                                best_left_y = y_left\n",
    "                                best_right_y = y_right\n",
    "                                \n",
    "                                # сохраняем те элементы, которые будем рассматривать в дальнейших рассечениях\n",
    "                                best_left_X = X_left\n",
    "                                best_right_X = X_right\n",
    "                                \n",
    "                                \n",
    "                \n",
    "                # проверяем, получили ли новую информацию при наилучшем разделении выборки\n",
    "                if best_gain > 0:\n",
    "                    left_tree = _grow_tree(best_left_X, best_left_y, n_cls, depth + 1)\n",
    "                    right_tree = _grow_tree(best_right_X, best_right_y, n_cls, depth + 1)\n",
    "                    return DecisionTreeNode(best_split_dim, best_split_value, left_tree, right_tree)\n",
    "                else:\n",
    "                    return DecisionTreeLeaf(y, n_cls)\n",
    "        \n",
    "        # начинаем рекурсию\n",
    "        self.root = _grow_tree(X, y, self.n_cls)\n",
    "    \n",
    "    def predict_proba(self, X):\n",
    "        dict_list = []\n",
    "        \n",
    "        # если передаем один эелемент, то приведем его к таблице\n",
    "        if type(X) == pd.core.series.Series:\n",
    "            X = X.to_frame().T\n",
    "            \n",
    "        for idx in range(len(X)):\n",
    "            sample = X.iloc[idx]\n",
    "            current_node = self.root\n",
    "            while (isinstance(current_node, DecisionTreeLeaf) == False):\n",
    "                if sample[current_node.split_dim] < current_node.split_value:\n",
    "                    current_node = current_node.left\n",
    "                else:\n",
    "                    current_node = current_node.right\n",
    "                    \n",
    "            dict_list.append(current_node.dic)\n",
    "        return dict_list\n",
    "        \n",
    "    \n",
    "    def predict(self, X):\n",
    "        if type(X) == np.ndarray:\n",
    "            X = pd.DataFrame(X)\n",
    "        proba = self.predict_proba(X)\n",
    "        return [max(p.keys(), key=lambda k: p[k]) for p in proba]"
   ]
  },
  {
   "cell_type": "code",
   "execution_count": 3,
   "metadata": {},
   "outputs": [],
   "source": [
    "class RandomForestClassifier:\n",
    "    def __init__(self, criterion=\"gini\", max_depth=None, min_samples_leaf=1, max_features=\"auto\", n_estimators=10):\n",
    "        self.criterion = criterion\n",
    "        self.max_depth = max_depth\n",
    "        self.min_samples_leaf = min_samples_leaf\n",
    "        self.max_features = max_features\n",
    "        self.n_estimators = n_estimators\n",
    "        self.trees = []\n",
    "        \n",
    "    def fit(self, X, y):\n",
    "        if type(X) == np.ndarray:\n",
    "            X = pd.DataFrame(X)\n",
    "        if type(y) == np.ndarray:\n",
    "            y = pd.Series(y, index=X.index)\n",
    "        \n",
    "        self._X = X\n",
    "        self._y = y\n",
    "        if len(self.trees) > 0:\n",
    "            self.trees = []\n",
    "        self.n_cls = len(np.unique(y))\n",
    "        self.features = X.columns\n",
    "        self.n_features = len(self.features)\n",
    "        \n",
    "        # для feature_importance: индексы oob samples каждого дерева\n",
    "        self.oob_idx_list = [[] for i in range(self.n_estimators)]\n",
    "        \n",
    "        # заготовка для хранения предсказаний каждого дерева на oob\n",
    "        oob_preds_forest = pd.Series(data=object, index=X.index)\n",
    "        for idx in oob_preds_forest.index:\n",
    "            oob_preds_forest[idx] = []\n",
    "        \n",
    "        # строим деревья\n",
    "        for i in range(self.n_estimators):\n",
    "            X_boot = X.sample(len(X), replace=True, axis=0)\n",
    "            y_boot = y[X_boot.index]\n",
    "            \n",
    "            oob_idx = list(np.setdiff1d(X.index, X_boot.index))\n",
    "            self.oob_idx_list[i] += oob_idx\n",
    "            \n",
    "            tree = DecisionTreeClassifier(criterion=self.criterion, max_depth=self.max_depth, \n",
    "                                          min_samples_leaf=self.min_samples_leaf, max_features=self.max_features)\n",
    "            tree.fit(X_boot, y_boot)\n",
    "            self.trees.append(tree)\n",
    "            \n",
    "            # храним предсказания каждого дерева на oob элементах выборки\n",
    "            for idx in oob_idx:\n",
    "                oob_preds_forest[idx].append(tree.predict(self._X.loc[idx])[0])\n",
    "        \n",
    "        for idx in oob_preds_forest.index:\n",
    "            # если не нашлось дерева, необучившегося на данном элементе выборки (индекса idx), выкидываем элемент\n",
    "            if oob_preds_forest[idx] == []:\n",
    "                oob_preds_forest.pop(idx)\n",
    "        oob_preds_forest = oob_preds_forest.map(np.bincount)\n",
    "        oob_preds_forest = oob_preds_forest.map(np.argmax)\n",
    "        \n",
    "        # будем хранить OOB предсказания всего леса\n",
    "        self.oob_preds = oob_preds_forest\n",
    "    \n",
    "    def predict_proba(self, X):\n",
    "        zero_dict = {cls: 0. for cls in range(self.n_cls)}\n",
    "        \n",
    "        # будем накапливать в лист нулевых словарей вероятности наших деревьев\n",
    "        forest_probs = [zero_dict] * len(X)\n",
    "        for tree in self.trees:\n",
    "            \n",
    "            # рассматриваем все словари конкретного дерева\n",
    "            tree_probs = tree.predict_proba(X)\n",
    "            \n",
    "            # передадим вероятности каждого словаря\n",
    "            for i, (tree_dict, forest_dict) in enumerate(zip(tree_probs, forest_probs)):\n",
    "                forest_probs[i] = {cls: tree_dict.get(cls, 0) + forest_dict.get(cls, 0) \n",
    "                               for cls in tree_dict.keys() | forest_dict.keys()}\n",
    "        \n",
    "        # нормируем, чтобы получить среднее вероятностей деревьев\n",
    "        for i, forest_dict in enumerate(forest_probs):\n",
    "            forest_probs[i] = {cls: prob / self.n_estimators for (cls, prob) in forest_dict.items()}\n",
    "            \n",
    "        return forest_probs\n",
    "        \n",
    "    def predict(self, X):\n",
    "        if type(X) == np.ndarray:\n",
    "            X = pd.DataFrame(X)\n",
    "        proba = self.predict_proba(X)\n",
    "        return [max(p.keys(), key=lambda k: p[k]) for p in proba]"
   ]
  },
  {
   "cell_type": "markdown",
   "metadata": {},
   "source": [
    "### Plotting utils"
   ]
  },
  {
   "cell_type": "code",
   "execution_count": 4,
   "metadata": {},
   "outputs": [],
   "source": [
    "def plot_roc_curve(y_test, p_pred):\n",
    "    positive_samples = sum(1 for y in y_test if y == 0)\n",
    "    tpr = []\n",
    "    fpr = []\n",
    "    for w in np.arange(-0.01, 1.02, 0.01):\n",
    "        y_pred = [(0 if p.get(0, 0) > w else 1) for p in p_pred]\n",
    "        tpr.append(sum(1 for yp, yt in zip(y_pred, y_test) if yp == 0 and yt == 0) / positive_samples)\n",
    "        fpr.append(sum(1 for yp, yt in zip(y_pred, y_test) if yp == 0 and yt != 0) / (len(y_test) - positive_samples))\n",
    "    plt.figure(figsize = (7, 7))\n",
    "    plt.plot(fpr, tpr)\n",
    "    plt.plot([0, 1], [0, 1], linestyle=\"--\")\n",
    "    plt.xlabel(\"False positive rate\")\n",
    "    plt.ylabel(\"True positive rate\")\n",
    "    plt.xlim(-0.01, 1.01)\n",
    "    plt.ylim(-0.01, 1.01)\n",
    "    plt.tight_layout()\n",
    "    plt.show()\n",
    "\n",
    "def rectangle_bounds(bounds):\n",
    "    return ((bounds[0][0], bounds[0][0], bounds[0][1], bounds[0][1]), \n",
    "            (bounds[1][0], bounds[1][1], bounds[1][1], bounds[1][0]))\n",
    "\n",
    "def plot_2d_tree(tree_root, bounds, colors):\n",
    "    if isinstance(tree_root, DecisionTreeNode):\n",
    "        if tree_root.split_dim:\n",
    "            plot_2d_tree(tree_root.left, [bounds[0], [bounds[1][0], tree_root.split_value]], colors)\n",
    "            plot_2d_tree(tree_root.right, [bounds[0], [tree_root.split_value, bounds[1][1]]], colors)\n",
    "            plt.plot(bounds[0], (tree_root.split_value, tree_root.split_value), c=(0, 0, 0))\n",
    "        else:\n",
    "            plot_2d_tree(tree_root.left, [[bounds[0][0], tree_root.split_value], bounds[1]], colors)\n",
    "            plot_2d_tree(tree_root.right, [[tree_root.split_value, bounds[0][1]], bounds[1]], colors)\n",
    "            plt.plot((tree_root.split_value, tree_root.split_value), bounds[1], c=(0, 0, 0))\n",
    "    else:\n",
    "        x, y = rectangle_bounds(bounds)\n",
    "        plt.fill(x, y, c=colors[tree_root.y] + [0.2])\n",
    "\n",
    "def plot_2d(tree, X, y):\n",
    "    plt.figure(figsize=(9, 9))\n",
    "    colors = dict((c, list(np.random.random(3))) for c in np.unique(y))\n",
    "    bounds = list(zip(np.min(X, axis=0), np.max(X, axis=0)))\n",
    "    plt.xlim(*bounds[0])\n",
    "    plt.ylim(*bounds[1])\n",
    "    plot_2d_tree(tree.root, list(zip(np.min(X, axis=0), np.max(X, axis=0))), colors)\n",
    "    for c in np.unique(y):\n",
    "        plt.scatter(X[y==c, 0], X[y==c, 1], c=[colors[c]], label=c)\n",
    "    plt.legend()\n",
    "    plt.tight_layout()\n",
    "    plt.show()\n"
   ]
  },
  {
   "cell_type": "markdown",
   "metadata": {},
   "source": [
    "### Testing implementation with ROC AUC"
   ]
  },
  {
   "cell_type": "code",
   "execution_count": 5,
   "metadata": {},
   "outputs": [],
   "source": [
    "from sklearn.metrics import roc_auc_score, accuracy_score"
   ]
  },
  {
   "cell_type": "code",
   "execution_count": 6,
   "metadata": {},
   "outputs": [],
   "source": [
    "X_spam_train = pd.read_csv(\"./x_spam_train.csv\", index_col=\"Id\")\n",
    "y_spam_train = pd.read_csv(\"./y_spam_train.csv\", index_col=\"Id\")\n",
    "y_spam_train = y_spam_train.iloc[:,0]\n",
    "\n",
    "X_train, X_test, y_train, y_test = train_test_split(X_spam_train, y_spam_train, test_size=0.2, random_state=42)"
   ]
  },
  {
   "cell_type": "code",
   "execution_count": 47,
   "metadata": {},
   "outputs": [
    {
     "name": "stdout",
     "output_type": "stream",
     "text": [
      "ROC AUC score for RandomForest with 100 trees of depth 10: 0.9763966557340946\n"
     ]
    },
    {
     "data": {
      "image/png": "[encoded data removed]",
      "text/plain": [
       "<Figure size 504x504 with 1 Axes>"
      ]
     },
     "metadata": {
      "needs_background": "light"
     },
     "output_type": "display_data"
    }
   ],
   "source": [
    "max_depth = 10\n",
    "n_estimators = 100\n",
    "\n",
    "rf = RandomForestClassifier(criterion=\"gini\", max_depth=max_depth, n_estimators=n_estimators)\n",
    "rf.fit(X_train, y_train)\n",
    "\n",
    "proba = rf.predict_proba(X_test)\n",
    "proba_list = [dic.get(1, 0) for dic in proba]\n",
    "print(f\"ROC AUC score for RandomForest with {n_estimators} trees of depth {max_depth}: {roc_auc_score(y_test, proba_list)}\")\n",
    "plot_roc_curve(y_test, rf.predict_proba(X_test))"
   ]
  },
  {
   "cell_type": "markdown",
   "metadata": {},
   "source": [
    "### Задание 3 (2 балла)\n",
    "Оптимизируйте по `AUC` на кроссвалидации (размер валидационной выборки - 20%) параметры своей реализации `Random Forest`: \n",
    "\n",
    "максимальную глубину деревьев из [2, 3, 5, 7, 10], количество деревьев из [5, 10, 20, 30, 50, 100]. \n",
    "\n",
    "Постройте `ROC` кривую (и выведите `AUC` и `accuracy`) для лучшего варианта.\n",
    "\n",
    "Подсказка: можно построить сразу 100 деревьев глубины 10, а потом убирать деревья и\n",
    "глубину."
   ]
  },
  {
   "cell_type": "code",
   "execution_count": 46,
   "metadata": {},
   "outputs": [
    {
     "name": "stdout",
     "output_type": "stream",
     "text": [
      "Best CV n_estimators: 50\n",
      "Best CV max_depth: 10\n",
      "Best model's ROC AUC is 0.9786185633499287 and accuracy is 0.9307065217391305\n"
     ]
    },
    {
     "data": {
      "image/png": "[encoded data removed]",
      "text/plain": [
       "<Figure size 504x504 with 1 Axes>"
      ]
     },
     "metadata": {
      "needs_background": "light"
     },
     "output_type": "display_data"
    }
   ],
   "source": [
    "from sklearn.model_selection import KFold\n",
    "\n",
    "n_estimators_list = [5, 10, 20, 30, 50, 100]\n",
    "max_depth_list = [2, 3, 5, 7, 10]\n",
    "best_n = None\n",
    "best_depth = None\n",
    "best_score = -1\n",
    "kf = KFold(n_splits=5)\n",
    "\n",
    "for n_estimators in n_estimators_list:\n",
    "    for max_depth in max_depth_list:\n",
    "        scores = []\n",
    "        for train_index, test_index in kf.split(X_spam_train):\n",
    "            rf = RandomForestClassifier(criterion=\"gini\", max_depth=max_depth, n_estimators=n_estimators)\n",
    "            rf.fit(X_spam_train.loc[train_index], y_spam_train[train_index])\n",
    "            score = roc_auc_score(y_spam_train[test_index], rf.predict_proba(X_spam_train.loc[test_index])[:, 1])\n",
    "            scores.append(score)\n",
    "            \n",
    "        if np.mean(scores) > best_score:\n",
    "            best_score = np.mean(scores)\n",
    "            best_n = n_estimators\n",
    "            best_depth = max_depth\n",
    "\n",
    "best_rf = RandomForestClassifier(criterion=\"gini\", max_depth=best_depth, n_estimators=best_n)\n",
    "best_rf.fit(X_train, y_train)\n",
    "proba = best_rf.predict_proba(X_test)\n",
    "proba_list = [dic.get(1, 0) for dic in proba]            \n",
    "            \n",
    "final_score = roc_auc_score(y_test, proba_list)\n",
    "final_accuracy = accuracy_score(y_test, best_rf.predict(X_test))\n",
    "\n",
    "print(f\"Best CV n_estimators: {best_n}\")\n",
    "print(f\"Best CV max_depth: {best_depth}\")\n",
    "print(f\"Best model's ROC AUC is {final_score} and accuracy is {final_accuracy}\")\n",
    "plot_roc_curve(y_test, best_rf.predict_proba(X_test))"
   ]
  },
  {
   "cell_type": "markdown",
   "metadata": {},
   "source": [
    "Часто хочется понимать, насколько большую роль играет тот или иной признак для предсказания класса объекта. Есть различные способы посчитать его важность. Один из простых способов сделать это для Random Forest выглядит так:\n",
    "1. Посчитать out-of-bag ошибку предсказания `err_oob` (https://en.wikipedia.org/wiki/Out-of-bag_error)\n",
    "2. Перемешать значения признака `j` у объектов выборки (у каждого из объектов изменится значение признака `j` на какой-то другой)\n",
    "3. Посчитать out-of-bag ошибку (`err_oob_j`) еще раз.\n",
    "4. Оценкой важности признака `j` для одного дерева будет разность `err_oob_j - err_oob`, важность для всего леса считается как среднее значение важности по деревьям.\n",
    "\n",
    "Реализуйте функцию `feature_importance`, которая принимает на вход Random Forest и возвращает массив, в котором содержится важность для каждого признака."
   ]
  },
  {
   "cell_type": "code",
   "execution_count": 9,
   "metadata": {},
   "outputs": [],
   "source": [
    "def feature_importance(rfc):\n",
    "    features_importances = []\n",
    "    \n",
    "    # предсказания леса на oob до перемешивания признаков\n",
    "    oob_preds = rfc.oob_preds\n",
    "    err_oob = accuracy_score(rfc._y[oob_preds.index], oob_preds)\n",
    "    \n",
    "    # oob выборки для каждого дерева\n",
    "    oob_idx_list = rfc.oob_idx_list\n",
    "    \n",
    "    # фиксируем признак, который будем перемешивать\n",
    "    for j in range(rfc.n_features):\n",
    "        \n",
    "        # здесь храним предсказания деревьев на выборке с перемешанным признаком\n",
    "        permuted_oob_preds = pd.Series(data=object, index=oob_preds.index)\n",
    "        for idx in permuted_oob_preds.index:\n",
    "            permuted_oob_preds[idx] = []\n",
    "            \n",
    "        # бежим по деревьям, смотрим их oob выборки, перемешиваем на них признак и запоминаем предсказания\n",
    "        for i, tree in enumerate(rfc.trees):\n",
    "            tree_oob_idx = oob_idx_list[i]\n",
    "            X_oob = rfc._X.loc[tree_oob_idx]\n",
    "            \n",
    "            X_oob_permuted = X_oob.copy()\n",
    "            X_oob_permuted.iloc[:, j] = X_oob_permuted.iloc[:, j].sample(n=len(X_oob_permuted)).to_numpy()\n",
    "            \n",
    "            for idx in tree_oob_idx:\n",
    "                permuted_oob_preds[idx].append(tree.predict(X_oob_permuted.loc[idx])[0])\n",
    "        \n",
    "        # считаем предсказания леса по majority vote\n",
    "        permuted_oob_preds = permuted_oob_preds.map(np.bincount)\n",
    "        permuted_oob_preds = permuted_oob_preds.map(np.argmax)\n",
    "        \n",
    "        err_oob_j = accuracy_score(rfc._y[permuted_oob_preds.index], permuted_oob_preds)\n",
    "        features_importances.append(err_oob - err_oob_j)\n",
    "        \n",
    "    return features_importances\n",
    "        \n",
    "\n",
    "def most_important_features(importance, names, k=20):\n",
    "    # Выводит названия k самых важных признаков\n",
    "    idicies = np.argsort(importance)[::-1][:k]\n",
    "    return np.array(names)[idicies]"
   ]
  },
  {
   "cell_type": "markdown",
   "metadata": {},
   "source": [
    "Протестируйте решение на простом синтетическом наборе данных. В результате должна получиться точность `1.0`, наибольшее значение важности должно быть у признака с индексом `4`, признаки с индексами `2` и `3`  должны быть одинаково важны, а остальные признаки - не важны совсем."
   ]
  },
  {
   "cell_type": "code",
   "execution_count": 10,
   "metadata": {},
   "outputs": [
    {
     "name": "stdout",
     "output_type": "stream",
     "text": [
      "Accuracy: 1.0\n",
      "Importance: [0.0, 0.0, 0.16700000000000004, 0.16700000000000004, 0.33299999999999996, 0.0]\n"
     ]
    }
   ],
   "source": [
    "def synthetic_dataset(size):\n",
    "    X = [(np.random.randint(0, 2), np.random.randint(0, 2), i % 6 == 3, \n",
    "          i % 6 == 0, i % 3 == 2, np.random.randint(0, 2)) for i in range(size)]\n",
    "    y = [i % 3 for i in range(size)]\n",
    "    return np.array(X), np.array(y)\n",
    "\n",
    "X, y = synthetic_dataset(1000)\n",
    "rfc = RandomForestClassifier(n_estimators=100)\n",
    "rfc.fit(X, y)\n",
    "print(\"Accuracy:\", np.mean(rfc.predict(X) == y))\n",
    "print(\"Importance:\", feature_importance(rfc))"
   ]
  },
  {
   "cell_type": "markdown",
   "metadata": {},
   "source": [
    "Проверьте, какие признаки важны для датасета spam? (Используйте файлы x_spam_train и y_spam_train)"
   ]
  },
  {
   "cell_type": "code",
   "execution_count": 11,
   "metadata": {},
   "outputs": [],
   "source": [
    "final_rf = RandomForestClassifier(max_depth=best_depth, n_estimators=best_n)\n",
    "final_rf.fit(X_spam_train, y_spam_train)"
   ]
  },
  {
   "cell_type": "code",
   "execution_count": 12,
   "metadata": {},
   "outputs": [],
   "source": [
    "spam_train_feature_importances = feature_importance(final_rf)"
   ]
  },
  {
   "cell_type": "code",
   "execution_count": 13,
   "metadata": {},
   "outputs": [
    {
     "name": "stdout",
     "output_type": "stream",
     "text": [
      "Most important features are:\n",
      "['51' '6' '15' '54' '24' '52' '45' '7' '55' '4' '56' '18' '36' '22' '23'\n",
      " '20' '41' '26' '5' '28']\n"
     ]
    }
   ],
   "source": [
    "print(f\"Most important features are:\\n{most_important_features(spam_train_feature_importances, X_spam_train.columns)}\")"
   ]
  },
  {
   "cell_type": "markdown",
   "metadata": {},
   "source": [
    "_Ваш ответ_"
   ]
  },
  {
   "cell_type": "markdown",
   "metadata": {},
   "source": [
    "1. Обучите модель на всех данных из x_spam_train и y_spam_train.\n",
    "2. Сделайте submit своего решения и получите значение f1_score не менее 0.6"
   ]
  },
  {
   "cell_type": "code",
   "execution_count": 66,
   "metadata": {
    "pycharm": {
     "name": "#%%\n"
    }
   },
   "outputs": [],
   "source": [
    "test = pd.read_csv('x_spam_test.csv', index_col=0)\n",
    "submission = pd.DataFrame(columns = [\"Id\", \"Expected\"])\n",
    "submission[\"Id\"] = test.index\n",
    "submission[\"Expected\"] = final_rf.predict(test)\n",
    "submission.to_csv('submission.csv', index=False)"
   ]
  },
  {
   "cell_type": "markdown",
   "metadata": {},
   "source": [
    "В качестве альтернативы попробуем библиотечные реализации ансамблей моделей. \n",
    "\n",
    "1. [CatBoost](https://catboost.ai/docs/)\n",
    "2. [XGBoost](https://xgboost.readthedocs.io/en/latest/)\n",
    "3. [LightGBM](https://lightgbm.readthedocs.io/en/latest/)\n"
   ]
  },
  {
   "cell_type": "markdown",
   "metadata": {},
   "source": [
    "Установите необходимые библиотеки. \n",
    "Возможно, потребуется установка дополнительных пакетов."
   ]
  },
  {
   "cell_type": "code",
   "execution_count": null,
   "metadata": {
    "scrolled": true
   },
   "outputs": [],
   "source": [
    "!pip install lightgbm\n",
    "!pip install catboost\n",
    "!pip install xgboost"
   ]
  },
  {
   "cell_type": "markdown",
   "metadata": {},
   "source": [
    "1. Примените модели для нашего датасета.\n",
    "\n",
    "2. Для стандартного набора параметров у каждой модели нарисуйте `ROC` кривую и выведите `AUC` и `accuracy`.\n",
    "\n",
    "3. Посчитайте время обучения каждой модели (можно использовать [timeit magic](https://ipython.readthedocs.io/en/stable/interactive/magics.html#magic-timeit)).\n",
    "\n",
    "4. Сравните метрики качества и скорость обучения моделей. Какие выводы можно сделать?"
   ]
  },
  {
   "cell_type": "code",
   "execution_count": 36,
   "metadata": {},
   "outputs": [],
   "source": [
    "from lightgbm import LGBMClassifier\n",
    "from catboost import CatBoostClassifier\n",
    "from xgboost import XGBRFClassifier\n",
    "\n",
    "from sklearn.metrics import RocCurveDisplay\n",
    "\n",
    "def print_metrics_ROC(estimator, y_true, X):\n",
    "    y_proba = estimator.predict_proba(X_test)[:, 1]\n",
    "    y_pred = estimator.predict(X_test)\n",
    "    auc = roc_auc_score(y_true, y_proba)\n",
    "    acc = accuracy_score(y_true, y_pred)\n",
    "    print(f\"AUC ROC: {auc}\")\n",
    "    print(f\"Accuracy: {acc}\")\n",
    "    est_disp = RocCurveDisplay.from_estimator(estimator, X, y_true)\n",
    "    plt.show()"
   ]
  },
  {
   "cell_type": "code",
   "execution_count": 18,
   "metadata": {},
   "outputs": [
    {
     "name": "stdout",
     "output_type": "stream",
     "text": [
      "201 ms ± 31.2 ms per loop (mean ± std. dev. of 7 runs, 1 loop each)\n"
     ]
    }
   ],
   "source": [
    "%%timeit \n",
    "lgbm = LGBMClassifier()\n",
    "lgbm.fit(X_train, y_train)"
   ]
  },
  {
   "cell_type": "code",
   "execution_count": 19,
   "metadata": {},
   "outputs": [
    {
     "name": "stdout",
     "output_type": "stream",
     "text": [
      "4.53 s ± 136 ms per loop (mean ± std. dev. of 7 runs, 1 loop each)\n"
     ]
    }
   ],
   "source": [
    "%%timeit\n",
    "ctbst = CatBoostClassifier(verbose=False)\n",
    "ctbst.fit(X_train, y_train)"
   ]
  },
  {
   "cell_type": "code",
   "execution_count": 20,
   "metadata": {},
   "outputs": [
    {
     "name": "stdout",
     "output_type": "stream",
     "text": [
      "699 ms ± 67.2 ms per loop (mean ± std. dev. of 7 runs, 1 loop each)\n"
     ]
    }
   ],
   "source": [
    "%%timeit \n",
    "xgbst = XGBRFClassifier(use_label_encoder=False, eval_metric='logloss')\n",
    "xgbst.fit(X_train, y_train)"
   ]
  },
  {
   "cell_type": "code",
   "execution_count": 37,
   "metadata": {},
   "outputs": [
    {
     "name": "stdout",
     "output_type": "stream",
     "text": [
      "LGBM\n",
      "AUC ROC: 0.9848399046742644\n",
      "Accuracy: 0.9470108695652174\n"
     ]
    },
    {
     "data": {
      "image/png": "[encoded data removed]",
      "text/plain": [
       "<Figure size 432x288 with 1 Axes>"
      ]
     },
     "metadata": {
      "needs_background": "light"
     },
     "output_type": "display_data"
    },
    {
     "name": "stdout",
     "output_type": "stream",
     "text": [
      "CatBoost\n",
      "AUC ROC: 0.9854415893914726\n",
      "Accuracy: 0.9510869565217391\n"
     ]
    },
    {
     "data": {
      "image/png": "[encoded data removed]",
      "text/plain": [
       "<Figure size 432x288 with 1 Axes>"
      ]
     },
     "metadata": {
      "needs_background": "light"
     },
     "output_type": "display_data"
    },
    {
     "name": "stdout",
     "output_type": "stream",
     "text": [
      "XGBoost\n",
      "AUC ROC: 0.9624713904815837\n",
      "Accuracy: 0.9171195652173914\n"
     ]
    },
    {
     "data": {
      "image/png": "[encoded data removed]",
      "text/plain": [
       "<Figure size 432x288 with 1 Axes>"
      ]
     },
     "metadata": {
      "needs_background": "light"
     },
     "output_type": "display_data"
    }
   ],
   "source": [
    "lgbm = LGBMClassifier()\n",
    "lgbm.fit(X_train, y_train)\n",
    "\n",
    "ctbst = CatBoostClassifier(verbose=False)\n",
    "ctbst.fit(X_train, y_train)\n",
    "\n",
    "xgbst = XGBRFClassifier(use_label_encoder=False, eval_metric='logloss')\n",
    "xgbst.fit(X_train, y_train)\n",
    "\n",
    "print(\"LGBM\")\n",
    "print_metrics_ROC(lgbm, y_test, X_test)\n",
    "print(\"CatBoost\")\n",
    "print_metrics_ROC(ctbst, y_test, X_test)\n",
    "print(\"XGBoost\")\n",
    "print_metrics_ROC(xgbst, y_test, X_test)"
   ]
  },
  {
   "cell_type": "markdown",
   "metadata": {},
   "source": [
    "#### Очевидно, библиотечные реализации работают намного быстрее. При этом из них дольше всех обучается CatBoost, но и выдает наилучший результат. XGBoost обучается медленнее LGBM, но метрики выдает хуже. Если взвесить скорость обучения и скоры, то наилучшей реализацией для нашего датасета можно считать LGBM. "
   ]
  },
  {
   "cell_type": "markdown",
   "metadata": {},
   "source": [
    "_Ваш ответ_"
   ]
  }
 ],
 "metadata": {
  "kernelspec": {
   "display_name": "Python 3 (ipykernel)",
   "language": "python",
   "name": "python3"
  },
  "language_info": {
   "codemirror_mode": {
    "name": "ipython",
    "version": 3
   },
   "file_extension": ".py",
   "mimetype": "text/x-python",
   "name": "python",
   "nbconvert_exporter": "python",
   "pygments_lexer": "ipython3",
   "version": "3.8.11"
  }
 },
 "nbformat": 4,
 "nbformat_minor": 2
}
